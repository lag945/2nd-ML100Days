{
 "cells": [
  {
   "cell_type": "markdown",
   "metadata": {},
   "source": [
    "## 範例重點\n",
    "* 學會從 Keras 內建函式取得資料\n",
    "* 能夠建立簡易的深度學習模型\n",
    "* 觀察並了解 Overfit 現象"
   ]
  },
  {
   "cell_type": "code",
   "execution_count": 1,
   "metadata": {},
   "outputs": [
    {
     "name": "stderr",
     "output_type": "stream",
     "text": [
      "Using TensorFlow backend.\n"
     ]
    }
   ],
   "source": [
    "import os\n",
    "import keras\n",
    "\n",
    "# 本範例不需使用 GPU, 將 GPU 設定為 \"無\"\n",
    "os.environ[\"CUDA_VISIBLE_DEVICES\"] = \"\""
   ]
  },
  {
   "cell_type": "code",
   "execution_count": 2,
   "metadata": {},
   "outputs": [],
   "source": [
    "# 從 Keras 的內建功能中，取得 train 與 test 資料集\n",
    "train, test = keras.datasets.cifar10.load_data()"
   ]
  },
  {
   "cell_type": "code",
   "execution_count": 3,
   "metadata": {},
   "outputs": [],
   "source": [
    "# 將 X 與 Y 獨立放進變數\n",
    "x_train, y_train = train\n",
    "x_test, y_test = test\n",
    "# 資料前處理 - 標準化\n",
    "x_train = x_train / 255.\n",
    "x_test = x_test / 255.\n",
    "\n",
    "# 將資料從圖形 (RGB) 轉為向量 (Single Vector)\n",
    "x_train = x_train.reshape((len(x_train), -1))\n",
    "x_test = x_test.reshape((len(x_test), -1))\n",
    "\n",
    "# 將目標轉為 one-hot encoding\n",
    "y_train = keras.utils.to_categorical(y_train, num_classes=10)\n",
    "y_test = keras.utils.to_categorical(y_test, num_classes=10)"
   ]
  },
  {
   "cell_type": "code",
   "execution_count": 4,
   "metadata": {},
   "outputs": [],
   "source": [
    "# 建立一個有三層隱藏層之神經網路\n",
    "def build_mlp():\n",
    "    input_layer = keras.layers.Input([x_train.shape[-1]])\n",
    "    x = keras.layers.Dense(units=512, activation=\"relu\")(input_layer)\n",
    "    x = keras.layers.Dense(units=256, activation=\"relu\")(x)\n",
    "    x = keras.layers.Dense(units=128, activation=\"relu\")(x)\n",
    "    out = keras.layers.Dense(units=10, activation=\"softmax\")(x)\n",
    "    \n",
    "    model = keras.models.Model(inputs=[input_layer], outputs=[out])\n",
    "    return model"
   ]
  },
  {
   "cell_type": "code",
   "execution_count": 5,
   "metadata": {},
   "outputs": [
    {
     "name": "stdout",
     "output_type": "stream",
     "text": [
      "WARNING:tensorflow:From C:\\Users\\User\\Anaconda3\\lib\\site-packages\\keras\\backend\\tensorflow_backend.py:74: The name tf.get_default_graph is deprecated. Please use tf.compat.v1.get_default_graph instead.\n",
      "\n",
      "WARNING:tensorflow:From C:\\Users\\User\\Anaconda3\\lib\\site-packages\\keras\\backend\\tensorflow_backend.py:517: The name tf.placeholder is deprecated. Please use tf.compat.v1.placeholder instead.\n",
      "\n",
      "WARNING:tensorflow:From C:\\Users\\User\\Anaconda3\\lib\\site-packages\\keras\\backend\\tensorflow_backend.py:4138: The name tf.random_uniform is deprecated. Please use tf.random.uniform instead.\n",
      "\n",
      "_________________________________________________________________\n",
      "Layer (type)                 Output Shape              Param #   \n",
      "=================================================================\n",
      "input_1 (InputLayer)         (None, 3072)              0         \n",
      "_________________________________________________________________\n",
      "dense_1 (Dense)              (None, 512)               1573376   \n",
      "_________________________________________________________________\n",
      "dense_2 (Dense)              (None, 256)               131328    \n",
      "_________________________________________________________________\n",
      "dense_3 (Dense)              (None, 128)               32896     \n",
      "_________________________________________________________________\n",
      "dense_4 (Dense)              (None, 10)                1290      \n",
      "=================================================================\n",
      "Total params: 1,738,890\n",
      "Trainable params: 1,738,890\n",
      "Non-trainable params: 0\n",
      "_________________________________________________________________\n",
      "WARNING:tensorflow:From C:\\Users\\User\\Anaconda3\\lib\\site-packages\\keras\\optimizers.py:790: The name tf.train.Optimizer is deprecated. Please use tf.compat.v1.train.Optimizer instead.\n",
      "\n",
      "WARNING:tensorflow:From C:\\Users\\User\\Anaconda3\\lib\\site-packages\\keras\\backend\\tensorflow_backend.py:3295: The name tf.log is deprecated. Please use tf.math.log instead.\n",
      "\n"
     ]
    }
   ],
   "source": [
    "model = build_mlp()\n",
    "# 用 Keras 內建方法檢視模型各層參數量\n",
    "model.summary()\n",
    "\n",
    "optimizer = keras.optimizers.Adam(lr=0.001)\n",
    "model.compile(loss=\"categorical_crossentropy\", metrics=[\"accuracy\"], optimizer=optimizer)"
   ]
  },
  {
   "cell_type": "code",
   "execution_count": 6,
   "metadata": {},
   "outputs": [
    {
     "name": "stdout",
     "output_type": "stream",
     "text": [
      "WARNING:tensorflow:From C:\\Users\\User\\Anaconda3\\lib\\site-packages\\tensorflow_core\\python\\ops\\math_grad.py:1424: where (from tensorflow.python.ops.array_ops) is deprecated and will be removed in a future version.\n",
      "Instructions for updating:\n",
      "Use tf.where in 2.0, which has the same broadcast rule as np.where\n",
      "WARNING:tensorflow:From C:\\Users\\User\\Anaconda3\\lib\\site-packages\\keras\\backend\\tensorflow_backend.py:986: The name tf.assign_add is deprecated. Please use tf.compat.v1.assign_add instead.\n",
      "\n",
      "WARNING:tensorflow:From C:\\Users\\User\\Anaconda3\\lib\\site-packages\\keras\\backend\\tensorflow_backend.py:973: The name tf.assign is deprecated. Please use tf.compat.v1.assign instead.\n",
      "\n",
      "WARNING:tensorflow:From C:\\Users\\User\\Anaconda3\\lib\\site-packages\\keras\\backend\\tensorflow_backend.py:2741: The name tf.Session is deprecated. Please use tf.compat.v1.Session instead.\n",
      "\n",
      "Train on 50000 samples, validate on 10000 samples\n",
      "Epoch 1/100\n",
      "WARNING:tensorflow:From C:\\Users\\User\\Anaconda3\\lib\\site-packages\\keras\\backend\\tensorflow_backend.py:174: The name tf.get_default_session is deprecated. Please use tf.compat.v1.get_default_session instead.\n",
      "\n",
      "WARNING:tensorflow:From C:\\Users\\User\\Anaconda3\\lib\\site-packages\\keras\\backend\\tensorflow_backend.py:181: The name tf.ConfigProto is deprecated. Please use tf.compat.v1.ConfigProto instead.\n",
      "\n",
      "WARNING:tensorflow:From C:\\Users\\User\\Anaconda3\\lib\\site-packages\\keras\\backend\\tensorflow_backend.py:190: The name tf.global_variables is deprecated. Please use tf.compat.v1.global_variables instead.\n",
      "\n",
      "WARNING:tensorflow:From C:\\Users\\User\\Anaconda3\\lib\\site-packages\\keras\\backend\\tensorflow_backend.py:199: The name tf.is_variable_initialized is deprecated. Please use tf.compat.v1.is_variable_initialized instead.\n",
      "\n",
      "WARNING:tensorflow:From C:\\Users\\User\\Anaconda3\\lib\\site-packages\\keras\\backend\\tensorflow_backend.py:206: The name tf.variables_initializer is deprecated. Please use tf.compat.v1.variables_initializer instead.\n",
      "\n",
      "50000/50000 [==============================] - 16s 326us/step - loss: 1.9286 - acc: 0.3027 - val_loss: 1.7560 - val_acc: 0.3571\n",
      "Epoch 2/100\n",
      "50000/50000 [==============================] - 4s 86us/step - loss: 1.7038 - acc: 0.3909 - val_loss: 1.6758 - val_acc: 0.4052\n",
      "Epoch 3/100\n",
      "50000/50000 [==============================] - 5s 107us/step - loss: 1.6176 - acc: 0.4235 - val_loss: 1.5649 - val_acc: 0.4439\n",
      "Epoch 4/100\n",
      "50000/50000 [==============================] - 4s 81us/step - loss: 1.5553 - acc: 0.4442 - val_loss: 1.5373 - val_acc: 0.4591\n",
      "Epoch 5/100\n",
      "50000/50000 [==============================] - 4s 79us/step - loss: 1.4993 - acc: 0.4663 - val_loss: 1.5030 - val_acc: 0.4658\n",
      "Epoch 6/100\n",
      "50000/50000 [==============================] - 4s 79us/step - loss: 1.4630 - acc: 0.4789 - val_loss: 1.5020 - val_acc: 0.4666\n",
      "Epoch 7/100\n",
      "50000/50000 [==============================] - 4s 81us/step - loss: 1.4431 - acc: 0.4847 - val_loss: 1.4904 - val_acc: 0.4661\n",
      "Epoch 8/100\n",
      "50000/50000 [==============================] - 4s 85us/step - loss: 1.3983 - acc: 0.5036 - val_loss: 1.4581 - val_acc: 0.4838\n",
      "Epoch 9/100\n",
      "50000/50000 [==============================] - 4s 76us/step - loss: 1.3753 - acc: 0.5089 - val_loss: 1.4828 - val_acc: 0.4665\n",
      "Epoch 10/100\n",
      "50000/50000 [==============================] - 6s 120us/step - loss: 1.3499 - acc: 0.5197 - val_loss: 1.3974 - val_acc: 0.5073\n",
      "Epoch 11/100\n",
      "50000/50000 [==============================] - 20s 394us/step - loss: 1.3203 - acc: 0.5289 - val_loss: 1.3887 - val_acc: 0.5046\n",
      "Epoch 12/100\n",
      "50000/50000 [==============================] - 14s 273us/step - loss: 1.2944 - acc: 0.5380 - val_loss: 1.4229 - val_acc: 0.4937\n",
      "Epoch 13/100\n",
      "50000/50000 [==============================] - 5s 97us/step - loss: 1.2772 - acc: 0.5465 - val_loss: 1.4101 - val_acc: 0.5077\n",
      "Epoch 14/100\n",
      "50000/50000 [==============================] - 5s 98us/step - loss: 1.2555 - acc: 0.5528 - val_loss: 1.4195 - val_acc: 0.5002\n",
      "Epoch 15/100\n",
      "50000/50000 [==============================] - 5s 110us/step - loss: 1.2200 - acc: 0.5665 - val_loss: 1.3661 - val_acc: 0.5152\n",
      "Epoch 16/100\n",
      "50000/50000 [==============================] - 4s 79us/step - loss: 1.2108 - acc: 0.5681 - val_loss: 1.3944 - val_acc: 0.5088\n",
      "Epoch 17/100\n",
      "50000/50000 [==============================] - 4s 80us/step - loss: 1.1786 - acc: 0.5806 - val_loss: 1.3754 - val_acc: 0.5237\n",
      "Epoch 18/100\n",
      "50000/50000 [==============================] - 4s 82us/step - loss: 1.1648 - acc: 0.5827 - val_loss: 1.3756 - val_acc: 0.5227\n",
      "Epoch 19/100\n",
      "50000/50000 [==============================] - 4s 81us/step - loss: 1.1439 - acc: 0.5905 - val_loss: 1.3793 - val_acc: 0.5161\n",
      "Epoch 20/100\n",
      "50000/50000 [==============================] - 4s 81us/step - loss: 1.1282 - acc: 0.5987 - val_loss: 1.3852 - val_acc: 0.5150\n",
      "Epoch 21/100\n",
      "50000/50000 [==============================] - 4s 80us/step - loss: 1.1055 - acc: 0.6048 - val_loss: 1.3997 - val_acc: 0.5124\n",
      "Epoch 22/100\n",
      "50000/50000 [==============================] - 4s 80us/step - loss: 1.0844 - acc: 0.6130 - val_loss: 1.4003 - val_acc: 0.5173\n",
      "Epoch 23/100\n",
      "50000/50000 [==============================] - 4s 80us/step - loss: 1.0612 - acc: 0.6227 - val_loss: 1.4195 - val_acc: 0.5065\n",
      "Epoch 24/100\n",
      "50000/50000 [==============================] - 4s 79us/step - loss: 1.0533 - acc: 0.6231 - val_loss: 1.3884 - val_acc: 0.5220\n",
      "Epoch 25/100\n",
      "50000/50000 [==============================] - 4s 79us/step - loss: 1.0267 - acc: 0.6336 - val_loss: 1.4468 - val_acc: 0.5137\n",
      "Epoch 26/100\n",
      "50000/50000 [==============================] - 4s 79us/step - loss: 1.0105 - acc: 0.6386 - val_loss: 1.3890 - val_acc: 0.5238\n",
      "Epoch 27/100\n",
      "50000/50000 [==============================] - 4s 79us/step - loss: 0.9823 - acc: 0.6485 - val_loss: 1.4172 - val_acc: 0.5232\n",
      "Epoch 28/100\n",
      "50000/50000 [==============================] - 4s 80us/step - loss: 0.9670 - acc: 0.6537 - val_loss: 1.4226 - val_acc: 0.5247\n",
      "Epoch 29/100\n",
      "50000/50000 [==============================] - 4s 79us/step - loss: 0.9553 - acc: 0.6566 - val_loss: 1.4161 - val_acc: 0.5287\n",
      "Epoch 30/100\n",
      "50000/50000 [==============================] - 4s 80us/step - loss: 0.9348 - acc: 0.6655 - val_loss: 1.4551 - val_acc: 0.5206\n",
      "Epoch 31/100\n",
      "50000/50000 [==============================] - 4s 79us/step - loss: 0.9174 - acc: 0.6723 - val_loss: 1.4980 - val_acc: 0.5222\n",
      "Epoch 32/100\n",
      "50000/50000 [==============================] - 4s 78us/step - loss: 0.8854 - acc: 0.6835 - val_loss: 1.4549 - val_acc: 0.5287\n",
      "Epoch 33/100\n",
      "50000/50000 [==============================] - 4s 79us/step - loss: 0.8696 - acc: 0.6886 - val_loss: 1.5158 - val_acc: 0.5216\n",
      "Epoch 34/100\n",
      "50000/50000 [==============================] - 4s 78us/step - loss: 0.8597 - acc: 0.6904 - val_loss: 1.4969 - val_acc: 0.5238\n",
      "Epoch 35/100\n",
      "50000/50000 [==============================] - 4s 78us/step - loss: 0.8412 - acc: 0.7001 - val_loss: 1.5078 - val_acc: 0.5261\n",
      "Epoch 36/100\n",
      "50000/50000 [==============================] - 4s 78us/step - loss: 0.8292 - acc: 0.7045 - val_loss: 1.5247 - val_acc: 0.5234\n",
      "Epoch 37/100\n",
      "50000/50000 [==============================] - 4s 79us/step - loss: 0.8139 - acc: 0.7090 - val_loss: 1.5535 - val_acc: 0.5163\n",
      "Epoch 38/100\n",
      "50000/50000 [==============================] - 4s 78us/step - loss: 0.7906 - acc: 0.7169 - val_loss: 1.5298 - val_acc: 0.5180\n",
      "Epoch 39/100\n",
      "50000/50000 [==============================] - 4s 77us/step - loss: 0.7826 - acc: 0.7205 - val_loss: 1.5556 - val_acc: 0.5241\n",
      "Epoch 40/100\n",
      "50000/50000 [==============================] - 4s 77us/step - loss: 0.7556 - acc: 0.7304 - val_loss: 1.5951 - val_acc: 0.5242\n",
      "Epoch 41/100\n",
      "50000/50000 [==============================] - 4s 78us/step - loss: 0.7386 - acc: 0.7329 - val_loss: 1.6090 - val_acc: 0.5187\n",
      "Epoch 42/100\n",
      "50000/50000 [==============================] - 4s 77us/step - loss: 0.7212 - acc: 0.7419 - val_loss: 1.6604 - val_acc: 0.5160\n",
      "Epoch 43/100\n",
      "50000/50000 [==============================] - 4s 77us/step - loss: 0.7129 - acc: 0.7453 - val_loss: 1.6535 - val_acc: 0.5229\n",
      "Epoch 44/100\n",
      "50000/50000 [==============================] - 4s 77us/step - loss: 0.7033 - acc: 0.7493 - val_loss: 1.7217 - val_acc: 0.5168\n",
      "Epoch 45/100\n",
      "50000/50000 [==============================] - 4s 77us/step - loss: 0.6720 - acc: 0.7606 - val_loss: 1.6994 - val_acc: 0.5235\n"
     ]
    },
    {
     "name": "stdout",
     "output_type": "stream",
     "text": [
      "Epoch 46/100\n",
      "50000/50000 [==============================] - 4s 77us/step - loss: 0.6533 - acc: 0.7650 - val_loss: 1.7691 - val_acc: 0.5129\n",
      "Epoch 47/100\n",
      "50000/50000 [==============================] - 4s 77us/step - loss: 0.6467 - acc: 0.7695 - val_loss: 1.7733 - val_acc: 0.5181\n",
      "Epoch 48/100\n",
      "50000/50000 [==============================] - 4s 77us/step - loss: 0.6386 - acc: 0.7709 - val_loss: 1.7838 - val_acc: 0.5189\n",
      "Epoch 49/100\n",
      "50000/50000 [==============================] - 4s 77us/step - loss: 0.6253 - acc: 0.7767 - val_loss: 1.8072 - val_acc: 0.5180\n",
      "Epoch 50/100\n",
      "50000/50000 [==============================] - 4s 77us/step - loss: 0.6111 - acc: 0.7809 - val_loss: 1.8935 - val_acc: 0.5142\n",
      "Epoch 51/100\n",
      "50000/50000 [==============================] - 4s 77us/step - loss: 0.6011 - acc: 0.7825 - val_loss: 1.8359 - val_acc: 0.5115\n",
      "Epoch 52/100\n",
      "50000/50000 [==============================] - 4s 77us/step - loss: 0.5957 - acc: 0.7861 - val_loss: 1.8895 - val_acc: 0.5126\n",
      "Epoch 53/100\n",
      "50000/50000 [==============================] - 4s 76us/step - loss: 0.5665 - acc: 0.7976 - val_loss: 1.9253 - val_acc: 0.5126\n",
      "Epoch 54/100\n",
      "50000/50000 [==============================] - 4s 76us/step - loss: 0.5547 - acc: 0.8044 - val_loss: 1.9590 - val_acc: 0.5158\n",
      "Epoch 55/100\n",
      "50000/50000 [==============================] - 4s 77us/step - loss: 0.5517 - acc: 0.8027 - val_loss: 1.9648 - val_acc: 0.5215\n",
      "Epoch 56/100\n",
      "50000/50000 [==============================] - 4s 78us/step - loss: 0.5245 - acc: 0.8142 - val_loss: 2.0014 - val_acc: 0.5128\n",
      "Epoch 57/100\n",
      "50000/50000 [==============================] - 4s 77us/step - loss: 0.5195 - acc: 0.8139 - val_loss: 1.9870 - val_acc: 0.5218\n",
      "Epoch 58/100\n",
      "50000/50000 [==============================] - 4s 77us/step - loss: 0.5132 - acc: 0.8150 - val_loss: 2.0432 - val_acc: 0.5118\n",
      "Epoch 59/100\n",
      "50000/50000 [==============================] - 14s 277us/step - loss: 0.4993 - acc: 0.8215 - val_loss: 2.0677 - val_acc: 0.5119\n",
      "Epoch 60/100\n",
      "50000/50000 [==============================] - 9s 179us/step - loss: 0.5014 - acc: 0.8196 - val_loss: 2.0804 - val_acc: 0.5121\n",
      "Epoch 61/100\n",
      "50000/50000 [==============================] - 4s 80us/step - loss: 0.4797 - acc: 0.8285 - val_loss: 2.2151 - val_acc: 0.5023\n",
      "Epoch 62/100\n",
      "50000/50000 [==============================] - 4s 79us/step - loss: 0.4868 - acc: 0.8231 - val_loss: 2.1619 - val_acc: 0.5045\n",
      "Epoch 63/100\n",
      "50000/50000 [==============================] - 4s 79us/step - loss: 0.4720 - acc: 0.8323 - val_loss: 2.1697 - val_acc: 0.5106\n",
      "Epoch 64/100\n",
      "50000/50000 [==============================] - 4s 79us/step - loss: 0.4392 - acc: 0.8443 - val_loss: 2.1563 - val_acc: 0.5158\n",
      "Epoch 65/100\n",
      "50000/50000 [==============================] - 4s 78us/step - loss: 0.4487 - acc: 0.8399 - val_loss: 2.2596 - val_acc: 0.5108\n",
      "Epoch 66/100\n",
      "50000/50000 [==============================] - 4s 78us/step - loss: 0.4510 - acc: 0.8376 - val_loss: 2.2568 - val_acc: 0.5117\n",
      "Epoch 67/100\n",
      "50000/50000 [==============================] - 4s 78us/step - loss: 0.4215 - acc: 0.8488 - val_loss: 2.3572 - val_acc: 0.5067\n",
      "Epoch 68/100\n",
      "50000/50000 [==============================] - 4s 78us/step - loss: 0.4331 - acc: 0.8439 - val_loss: 2.2961 - val_acc: 0.5074\n",
      "Epoch 69/100\n",
      "50000/50000 [==============================] - 4s 77us/step - loss: 0.4227 - acc: 0.8476 - val_loss: 2.3491 - val_acc: 0.5128\n",
      "Epoch 70/100\n",
      "50000/50000 [==============================] - 4s 77us/step - loss: 0.3961 - acc: 0.8574 - val_loss: 2.4011 - val_acc: 0.5049\n",
      "Epoch 71/100\n",
      "50000/50000 [==============================] - 4s 77us/step - loss: 0.4151 - acc: 0.8511 - val_loss: 2.3954 - val_acc: 0.5097\n",
      "Epoch 72/100\n",
      "50000/50000 [==============================] - 4s 77us/step - loss: 0.4063 - acc: 0.8555 - val_loss: 2.4649 - val_acc: 0.5012\n",
      "Epoch 73/100\n",
      "50000/50000 [==============================] - 4s 77us/step - loss: 0.3802 - acc: 0.8634 - val_loss: 2.4782 - val_acc: 0.5113\n",
      "Epoch 74/100\n",
      "50000/50000 [==============================] - 4s 77us/step - loss: 0.3686 - acc: 0.8678 - val_loss: 2.4750 - val_acc: 0.5092\n",
      "Epoch 75/100\n",
      "50000/50000 [==============================] - 4s 77us/step - loss: 0.3672 - acc: 0.8675 - val_loss: 2.5046 - val_acc: 0.5089\n",
      "Epoch 76/100\n",
      "50000/50000 [==============================] - 4s 77us/step - loss: 0.3654 - acc: 0.8697 - val_loss: 2.5870 - val_acc: 0.5055\n",
      "Epoch 77/100\n",
      "50000/50000 [==============================] - 4s 77us/step - loss: 0.3674 - acc: 0.8680 - val_loss: 2.5890 - val_acc: 0.5053\n",
      "Epoch 78/100\n",
      "50000/50000 [==============================] - 4s 77us/step - loss: 0.3740 - acc: 0.8644 - val_loss: 2.6680 - val_acc: 0.5065\n",
      "Epoch 79/100\n",
      "50000/50000 [==============================] - 4s 77us/step - loss: 0.3482 - acc: 0.8750 - val_loss: 2.6444 - val_acc: 0.5068\n",
      "Epoch 80/100\n",
      "50000/50000 [==============================] - 4s 77us/step - loss: 0.3550 - acc: 0.8735 - val_loss: 2.7109 - val_acc: 0.4953\n",
      "Epoch 81/100\n",
      "50000/50000 [==============================] - 4s 77us/step - loss: 0.3375 - acc: 0.8793 - val_loss: 2.6730 - val_acc: 0.5123\n",
      "Epoch 82/100\n",
      "50000/50000 [==============================] - 4s 77us/step - loss: 0.3306 - acc: 0.8814 - val_loss: 2.6891 - val_acc: 0.5043\n",
      "Epoch 83/100\n",
      "50000/50000 [==============================] - 4s 76us/step - loss: 0.3412 - acc: 0.8773 - val_loss: 2.6954 - val_acc: 0.5038\n",
      "Epoch 84/100\n",
      "50000/50000 [==============================] - 7s 137us/step - loss: 0.3170 - acc: 0.8852 - val_loss: 2.8260 - val_acc: 0.5061\n",
      "Epoch 85/100\n",
      "50000/50000 [==============================] - 10s 191us/step - loss: 0.3066 - acc: 0.8904 - val_loss: 2.8155 - val_acc: 0.5062\n",
      "Epoch 86/100\n",
      "50000/50000 [==============================] - 4s 87us/step - loss: 0.2986 - acc: 0.8935 - val_loss: 2.9549 - val_acc: 0.5027\n",
      "Epoch 87/100\n",
      "50000/50000 [==============================] - 4s 77us/step - loss: 0.3063 - acc: 0.8902 - val_loss: 2.9594 - val_acc: 0.4953\n",
      "Epoch 88/100\n",
      "50000/50000 [==============================] - 4s 77us/step - loss: 0.3518 - acc: 0.8747 - val_loss: 2.8780 - val_acc: 0.5047\n",
      "Epoch 89/100\n",
      "50000/50000 [==============================] - 4s 77us/step - loss: 0.2994 - acc: 0.8927 - val_loss: 2.8361 - val_acc: 0.5074\n",
      "Epoch 90/100\n",
      "50000/50000 [==============================] - 4s 77us/step - loss: 0.2948 - acc: 0.8939 - val_loss: 2.9673 - val_acc: 0.5004\n",
      "Epoch 91/100\n",
      "50000/50000 [==============================] - 6s 123us/step - loss: 0.3157 - acc: 0.8842 - val_loss: 2.8966 - val_acc: 0.5003\n",
      "Epoch 92/100\n",
      "50000/50000 [==============================] - 7s 137us/step - loss: 0.2700 - acc: 0.9031 - val_loss: 3.0181 - val_acc: 0.5076\n",
      "Epoch 93/100\n",
      "50000/50000 [==============================] - 4s 78us/step - loss: 0.2863 - acc: 0.8965 - val_loss: 3.0088 - val_acc: 0.4986\n",
      "Epoch 94/100\n",
      "50000/50000 [==============================] - 6s 117us/step - loss: 0.2910 - acc: 0.8947 - val_loss: 3.0863 - val_acc: 0.5036\n",
      "Epoch 95/100\n",
      "50000/50000 [==============================] - 4s 78us/step - loss: 0.2968 - acc: 0.8930 - val_loss: 3.0576 - val_acc: 0.4961\n",
      "Epoch 96/100\n",
      "50000/50000 [==============================] - 4s 77us/step - loss: 0.2731 - acc: 0.9021 - val_loss: 3.1531 - val_acc: 0.4977\n",
      "Epoch 97/100\n",
      "50000/50000 [==============================] - 4s 78us/step - loss: 0.2632 - acc: 0.9063 - val_loss: 3.0606 - val_acc: 0.5032\n",
      "Epoch 98/100\n",
      "50000/50000 [==============================] - 4s 78us/step - loss: 0.2494 - acc: 0.9111 - val_loss: 3.1579 - val_acc: 0.4987\n",
      "Epoch 99/100\n",
      "50000/50000 [==============================] - 4s 79us/step - loss: 0.2705 - acc: 0.9016 - val_loss: 3.1401 - val_acc: 0.4990\n",
      "Epoch 100/100\n",
      "50000/50000 [==============================] - 4s 78us/step - loss: 0.2993 - acc: 0.8925 - val_loss: 3.1501 - val_acc: 0.4952\n"
     ]
    },
    {
     "data": {
      "text/plain": [
       "<keras.callbacks.History at 0x24fc068e6c8>"
      ]
     },
     "execution_count": 6,
     "metadata": {},
     "output_type": "execute_result"
    }
   ],
   "source": [
    "# 訓練模型並檢視驗證集的結果\n",
    "model.fit(x_train, y_train, \n",
    "          epochs=100, \n",
    "          batch_size=256, \n",
    "          validation_data=(x_test, y_test), \n",
    "          shuffle=True)"
   ]
  },
  {
   "cell_type": "code",
   "execution_count": 8,
   "metadata": {},
   "outputs": [
    {
     "data": {
      "image/png": "[encoded data removed]",
      "text/plain": [
       "<Figure size 432x288 with 1 Axes>"
      ]
     },
     "metadata": {
      "needs_background": "light"
     },
     "output_type": "display_data"
    },
    {
     "data": {
      "image/png": "[encoded data removed]",
      "text/plain": [
       "<Figure size 432x288 with 1 Axes>"
      ]
     },
     "metadata": {
      "needs_background": "light"
     },
     "output_type": "display_data"
    }
   ],
   "source": [
    "# 以視覺畫方式檢視訓練過程\n",
    "import matplotlib.pyplot as plt\n",
    "train_loss = model.history.history[\"loss\"]\n",
    "valid_loss = model.history.history[\"val_loss\"]\n",
    "\n",
    "train_acc = model.history.history[\"acc\"]\n",
    "valid_acc = model.history.history[\"val_acc\"]\n",
    "\n",
    "plt.plot(range(len(train_loss)), train_loss, label=\"train loss\")\n",
    "plt.plot(range(len(valid_loss)), valid_loss, label=\"valid loss\")\n",
    "plt.legend()\n",
    "plt.title(\"Loss\")\n",
    "plt.show()\n",
    "\n",
    "plt.plot(range(len(train_acc)), train_acc, label=\"train accuracy\")\n",
    "plt.plot(range(len(valid_acc)), valid_acc, label=\"valid accuracy\")\n",
    "plt.legend()\n",
    "plt.title(\"Accuracy\")\n",
    "plt.show()"
   ]
  },
  {
   "cell_type": "markdown",
   "metadata": {},
   "source": [
    "## 作業\n",
    "1. 請將 Epoch 加到 500 個，並觀察 learning curve 的走勢\n",
    "2. 請將 Optimizer 換成 SGD，並觀察 learning curve 的走勢"
   ]
  }
 ],
 "metadata": {
  "kernelspec": {
   "display_name": "Python 3",
   "language": "python",
   "name": "python3"
  },
  "language_info": {
   "codemirror_mode": {
    "name": "ipython",
    "version": 3
   },
   "file_extension": ".py",
   "mimetype": "text/x-python",
   "name": "python",
   "nbconvert_exporter": "python",
   "pygments_lexer": "ipython3",
   "version": "3.7.4"
  }
 },
 "nbformat": 4,
 "nbformat_minor": 2
}
